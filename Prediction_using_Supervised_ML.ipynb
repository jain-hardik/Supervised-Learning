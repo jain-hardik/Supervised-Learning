{
 "cells": [
  {
   "cell_type": "markdown",
   "metadata": {
    "id": "Wvo3cYftKX5O"
   },
   "source": [
    "# **Prediction using Supervised ML**\n",
    "\n",
    "### **Task: Predict the percentage of a student based on the no. of study hours**.\n",
    "\n",
    "**Libraries Used:** Numpy, Pandas, Matplotlib, Sklearn\n",
    "\n",
    "● Dataset can be found at http://bit.ly/w-data\n",
    "\n",
    "● What will be predicted score if a student studies for 9.25 hrs/ day?\n",
    "\n",
    "**Task Completed for Graduate Rotational Internship Program offered by The Sparks Foundation**\n",
    "\n",
    "**Task Submitted By - Hardik Jain**"
   ]
  },
  {
   "cell_type": "markdown",
   "metadata": {},
   "source": [
    "## Importing Libraries and Dataset"
   ]
  },
  {
   "cell_type": "code",
   "execution_count": null,
   "metadata": {
    "id": "jsfIKDsPKZcJ"
   },
   "outputs": [],
   "source": [
    "# Importing the required librarires\n",
    "\n",
    "import numpy as np\n",
    "import pandas as pd\n",
    "import matplotlib.pyplot as plt"
   ]
  },
  {
   "cell_type": "code",
   "execution_count": null,
   "metadata": {
    "id": "0dBt8ExkK5Aq"
   },
   "outputs": [],
   "source": [
    "# Loading the database\n",
    "\n",
    "dataset = pd.read_csv(\"http://bit.ly/w-data\") "
   ]
  },
  {
   "cell_type": "code",
   "execution_count": null,
   "metadata": {
    "colab": {
     "base_uri": "https://localhost:8080/",
     "height": 204
    },
    "id": "6PDV9kWpLGzw",
    "outputId": "0d014b8c-c3bf-4581-f84d-6b1a16c9ff1b"
   },
   "outputs": [],
   "source": [
    "# View dataset \n",
    "\n",
    "dataset.head()"
   ]
  },
  {
   "cell_type": "code",
   "execution_count": null,
   "metadata": {
    "colab": {
     "base_uri": "https://localhost:8080/",
     "height": 295
    },
    "id": "luWpUeOlLMQs",
    "outputId": "8958892a-93c2-443e-addd-5692debf3899"
   },
   "outputs": [],
   "source": [
    "# Analyze the dataset by plotting the graph\n",
    "\n",
    "dataset.plot(x='Hours', y='Scores', style='o')  \n",
    "plt.title('Hours vs Percentage')  \n",
    "plt.xlabel('Hours Studied')  \n",
    "plt.ylabel('Percentage Score')  \n",
    "plt.show()"
   ]
  },
  {
   "cell_type": "markdown",
   "metadata": {},
   "source": [
    "**From the above scatterplot, we can clearly see that there is a positive linear relation between the \"Number of hours studied\" and \"Percentage of score\"**\n"
   ]
  },
  {
   "cell_type": "markdown",
   "metadata": {},
   "source": [
    "## Preparing the data"
   ]
  },
  {
   "cell_type": "code",
   "execution_count": null,
   "metadata": {
    "colab": {
     "base_uri": "https://localhost:8080/"
    },
    "id": "Bf01nQlgNRqW",
    "outputId": "6de79cd7-e24b-4c98-e9f6-1c10bacc497e"
   },
   "outputs": [],
   "source": [
    "# We will divide the data into \"attributes\" (inputs) and \"labels\" (outputs). \n",
    "\n",
    "X = dataset.iloc[:,0].values\n",
    "y = dataset.iloc[:,-1].values\n",
    "print(X)\n",
    "print(y)\n",
    "\n",
    "# changing the shape for X\n",
    "\n",
    "X = X.reshape((len(X),1))\n",
    "print(X)"
   ]
  },
  {
   "cell_type": "code",
   "execution_count": null,
   "metadata": {
    "colab": {
     "base_uri": "https://localhost:8080/"
    },
    "id": "_2Miplf1OSyX",
    "outputId": "98eb2bbf-c46a-4bb0-bc09-675c0320a9b6"
   },
   "outputs": [],
   "source": [
    "# Splitting the data into train and test in the ratio of 75% and 25%\n",
    "\n",
    "from sklearn.model_selection import train_test_split\n",
    "X_train,X_test,y_train,y_test = train_test_split(X,y,test_size=0.25, random_state=0)\n",
    "print(X_train)\n",
    "print(y_train)\n",
    "print(X_test)\n",
    "print(y_test)"
   ]
  },
  {
   "cell_type": "markdown",
   "metadata": {},
   "source": [
    "## Training the Model"
   ]
  },
  {
   "cell_type": "code",
   "execution_count": null,
   "metadata": {
    "colab": {
     "base_uri": "https://localhost:8080/"
    },
    "id": "vrRt5P-UPVeY",
    "outputId": "f7e8b310-2442-4bf6-fdbb-ec556585058c"
   },
   "outputs": [],
   "source": [
    "# We will be using the Linear Regression model for training the dataset\n",
    "\n",
    "from sklearn.linear_model import LinearRegression\n",
    "regress = LinearRegression()\n",
    "regress.fit(X_train,y_train)\n",
    "print(\"Training Completed\")"
   ]
  },
  {
   "cell_type": "code",
   "execution_count": null,
   "metadata": {
    "colab": {
     "base_uri": "https://localhost:8080/",
     "height": 265
    },
    "id": "vLGVx2QSQKsS",
    "outputId": "70c40b4e-d9a4-4a09-f417-0fa6211666cd"
   },
   "outputs": [],
   "source": [
    "# Plotting the regression line\n",
    "\n",
    "line = regress.coef_*X+regress.intercept_\n",
    "\n",
    "# Plotting for the test data\n",
    "plt.scatter(X, y)\n",
    "plt.plot(X, line);\n",
    "plt.show()"
   ]
  },
  {
   "cell_type": "markdown",
   "metadata": {},
   "source": [
    "## Making Predictions"
   ]
  },
  {
   "cell_type": "code",
   "execution_count": null,
   "metadata": {
    "colab": {
     "base_uri": "https://localhost:8080/"
    },
    "id": "1E7LWI75Qr0r",
    "outputId": "6ba1a358-e704-4130-95c8-5463f637f608"
   },
   "outputs": [],
   "source": [
    "# Making Predictions\n",
    "\n",
    "y_pred = regress.predict(X_test)\n",
    "print(y_pred)"
   ]
  },
  {
   "cell_type": "code",
   "execution_count": null,
   "metadata": {
    "colab": {
     "base_uri": "https://localhost:8080/",
     "height": 266
    },
    "id": "RV4IVo9NRD8U",
    "outputId": "c68db46c-c79c-490a-88fd-d9b691468c84"
   },
   "outputs": [],
   "source": [
    "# Comparing Actual vs Predicted Data\n",
    "\n",
    "df = pd.DataFrame({'Actual': y_test, 'Predicted': y_pred})  \n",
    "df "
   ]
  },
  {
   "cell_type": "code",
   "execution_count": null,
   "metadata": {
    "colab": {
     "base_uri": "https://localhost:8080/"
    },
    "id": "0VX7BSxMRf1r",
    "outputId": "9d09572a-8541-473e-c8cd-ab4a946e3955"
   },
   "outputs": [],
   "source": [
    "# Prdicting the score if a student studies for 9.25 hrs/ day\n",
    "\n",
    "hours = 9.25\n",
    "x_new = np.array(hours).reshape((-1, 1))\n",
    "new_pred = regress.predict(x_new)\n",
    "\n",
    "print(\"No of Hours = {}\".format(hours))\n",
    "print(\"Predicted Score = {}\".format(new_pred[0]))"
   ]
  },
  {
   "cell_type": "markdown",
   "metadata": {
    "id": "2ay-CrMrVnCm"
   },
   "source": [
    "## Evaluating the model\n",
    "The final step is to evaluate the performance of algorithm."
   ]
  },
  {
   "cell_type": "code",
   "execution_count": null,
   "metadata": {
    "colab": {
     "base_uri": "https://localhost:8080/"
    },
    "id": "u3GetDBUR4Lu",
    "outputId": "09d84ca5-62b9-4cf0-dbc1-cd5a3608a819"
   },
   "outputs": [],
   "source": [
    "from sklearn import metrics  \n",
    "\n",
    "print('Mean Absolute Error:',metrics.mean_absolute_error(y_test, y_pred)) "
   ]
  }
 ],
 "metadata": {
  "colab": {
   "name": "Prediction_using_Supervised_ML.ipynb",
   "provenance": []
  },
  "kernelspec": {
   "display_name": "Python 3",
   "language": "python",
   "name": "python3"
  },
  "language_info": {
   "codemirror_mode": {
    "name": "ipython",
    "version": 3
   },
   "file_extension": ".py",
   "mimetype": "text/x-python",
   "name": "python",
   "nbconvert_exporter": "python",
   "pygments_lexer": "ipython3",
   "version": "3.8.8"
  }
 },
 "nbformat": 4,
 "nbformat_minor": 1
}
